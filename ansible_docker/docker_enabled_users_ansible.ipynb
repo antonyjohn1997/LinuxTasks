### Automating Docker Installation on Ubuntu Using Ansible

## Introduction

In this guide, we will automate the installation and configuration of Docker on an Ubuntu system using Ansible. This approach ensures a repeatable, error-free setup and allows users to run Docker commands without needing sudo.

## Prerequisites

Before proceeding, ensure you have the following:

* Ubuntu OS (Tested on Ubuntu 20.04/22.04)

* Ansible installed (Instructions provided below)

* A user with sudo privileges

* SSH access (If setting up Docker on a remote machine)

## Step-by-Step Guide

* Step 1: Install Ansible

If Ansible is not already installed, install it using the following commands:

* sudo apt update
* sudo apt install ansible -y

## Verify the installation:

* ansible --version
